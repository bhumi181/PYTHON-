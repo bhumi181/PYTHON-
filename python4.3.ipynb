{
 "cells": [
  {
   "cell_type": "code",
   "execution_count": 1,
   "metadata": {},
   "outputs": [
    {
     "name": "stdout",
     "output_type": "stream",
     "text": [
      "Hello, I am a student of engineering second year, pleased to meet you.\n",
      "Hello,:1\n",
      "I:1\n",
      "a:1\n",
      "am:1\n",
      "engineering:1\n",
      "meet:1\n",
      "of:1\n",
      "pleased:1\n",
      "second:1\n",
      "student:1\n",
      "to:1\n",
      "year,:1\n",
      "you.:1\n"
     ]
    }
   ],
   "source": [
    "#PROGRAM TO COMPUTE FREQUENCY OF WORDS FROM THE INPUT #3\n",
    "bmw = input().split()\n",
    "dict = {}\n",
    "for i in bmw:\n",
    "    i = dict.setdefault(i,bmw.count(i))\n",
    "dict = sorted(dict.items())\n",
    "for i in dict:\n",
    "    print(\"%s:%d\"%(i[0],i[1]))\n"
   ]
  },
  {
   "cell_type": "code",
   "execution_count": null,
   "metadata": {},
   "outputs": [],
   "source": []
  }
 ],
 "metadata": {
  "kernelspec": {
   "display_name": "Python 3",
   "language": "python",
   "name": "python3"
  },
  "language_info": {
   "codemirror_mode": {
    "name": "ipython",
    "version": 3
   },
   "file_extension": ".py",
   "mimetype": "text/x-python",
   "name": "python",
   "nbconvert_exporter": "python",
   "pygments_lexer": "ipython3",
   "version": "3.8.3"
  }
 },
 "nbformat": 4,
 "nbformat_minor": 4
}
