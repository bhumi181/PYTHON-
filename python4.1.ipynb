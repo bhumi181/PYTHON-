{
 "cells": [
  {
   "cell_type": "code",
   "execution_count": 12,
   "metadata": {},
   "outputs": [
    {
     "name": "stdout",
     "output_type": "stream",
     "text": [
      "Enter your PasswordABcd@123\n",
      "Valid Password\n"
     ]
    }
   ],
   "source": [
    "# VERIFICATION OF PASSWORD #1\n",
    "low, upp, dig, sym = 0,0,0,0\n",
    "Password = input(\"Enter your Password\")\n",
    "if(len(Password) >= 6):\n",
    "    for i in Password:\n",
    "        if(i.islower()):\n",
    "            low+=1\n",
    "        if(i.isupper()):\n",
    "            upp+=1\n",
    "        if(i.isdigit()):\n",
    "            dig+=1\n",
    "        if(i=='@'or i=='$'or i=='#'):\n",
    "            sym+=1\n",
    "if(low>=1 and upp>=1 and dig>=1 and sym>=1 and low+upp+dig+sym == len(Password)):\n",
    "    print(\"Valid Password\")\n",
    "else:\n",
    "    print(\"Invalid Password\")\n",
    "        \n",
    "            \n"
   ]
  },
  {
   "cell_type": "code",
   "execution_count": null,
   "metadata": {},
   "outputs": [],
   "source": []
  }
 ],
 "metadata": {
  "kernelspec": {
   "display_name": "Python 3",
   "language": "python",
   "name": "python3"
  },
  "language_info": {
   "codemirror_mode": {
    "name": "ipython",
    "version": 3
   },
   "file_extension": ".py",
   "mimetype": "text/x-python",
   "name": "python",
   "nbconvert_exporter": "python",
   "pygments_lexer": "ipython3",
   "version": "3.8.3"
  }
 },
 "nbformat": 4,
 "nbformat_minor": 4
}
